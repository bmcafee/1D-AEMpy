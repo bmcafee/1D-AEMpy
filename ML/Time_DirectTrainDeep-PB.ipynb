{
 "cells": [
  {
   "cell_type": "code",
   "execution_count": 1,
   "metadata": {},
   "outputs": [],
   "source": [
    "import numpy as np\n",
    "import pandas as pd\n",
    "import random\n",
    "\n",
    "import torch\n",
    "import torch.nn as nn\n",
    "import torch.nn.functional as F\n",
    "\n",
    "import seaborn as sns\n",
    "import matplotlib.pyplot as plt\n",
    "import os\n",
    "\n",
    "from sklearn.model_selection import train_test_split\n",
    "from sklearn.preprocessing import StandardScaler\n",
    "from collections import OrderedDict\n",
    "from tqdm import tqdm\n",
    "\n",
    "import warnings\n",
    "warnings.filterwarnings(\"ignore\")"
   ]
  },
  {
   "cell_type": "code",
   "execution_count": 2,
   "metadata": {},
   "outputs": [
    {
     "name": "stdout",
     "output_type": "stream",
     "text": [
      "cpu\n"
     ]
    }
   ],
   "source": [
    "# CUDA support \n",
    "if torch.cuda.is_available():\n",
    "    device = torch.device('cuda:2')\n",
    "else:\n",
    "    device = torch.device('cpu')\n",
    "    \n",
    "print(device)\n",
    "device = torch.device('cpu')"
   ]
  },
  {
   "cell_type": "code",
   "execution_count": 3,
   "metadata": {},
   "outputs": [],
   "source": [
    "# the deep neural network\n",
    "class MLP(torch.nn.Module):\n",
    "    def __init__(self, layers, activation=\"relu\", init=\"xavier\"):\n",
    "        super(MLP, self).__init__()\n",
    "        \n",
    "        # parameters\n",
    "        self.depth = len(layers) - 1\n",
    "        \n",
    "        if activation == \"relu\":\n",
    "            self.activation = torch.nn.ReLU()\n",
    "        elif activation == \"tanh\":\n",
    "            self.activation = torch.nn.Tanh()\n",
    "        elif activation == \"gelu\":\n",
    "            self.activation = torch.nn.GELU()\n",
    "        else:\n",
    "            raise ValueError(\"Unspecified activation type\")\n",
    "        \n",
    "        \n",
    "        layer_list = list()\n",
    "        for i in range(self.depth - 1): \n",
    "            layer_list.append(\n",
    "                ('layer_%d' % i, torch.nn.Linear(layers[i], layers[i+1]))\n",
    "            )\n",
    "            layer_list.append(('activation_%d' % i, self.activation))\n",
    "            \n",
    "        layer_list.append(\n",
    "            ('layer_%d' % (self.depth - 1), torch.nn.Linear(layers[-2], layers[-1]))\n",
    "        )\n",
    "        layerDict = OrderedDict(layer_list)\n",
    "        \n",
    "        # deploy layers\n",
    "        self.layers = torch.nn.Sequential(layerDict)\n",
    "\n",
    "        if init==\"xavier\":\n",
    "            self.xavier_init_weights()\n",
    "        elif init==\"kaiming\":\n",
    "            self.kaiming_init_weights()\n",
    "    \n",
    "    def xavier_init_weights(self):\n",
    "        with torch.no_grad():\n",
    "            print(\"Initializing Network with Xavier Initialization..\")\n",
    "            for m in self.layers.modules():\n",
    "                if hasattr(m, 'weight'):\n",
    "                    nn.init.xavier_uniform_(m.weight)\n",
    "                    m.bias.data.fill_(0.0)\n",
    "\n",
    "    def kaiming_init_weights(self):\n",
    "        with torch.no_grad():\n",
    "            print(\"Initializing Network with Kaiming Initialization..\")\n",
    "            for m in self.layers.modules():\n",
    "                if hasattr(m, 'weight'):\n",
    "                    nn.init.kaiming_uniform_(m.weight)\n",
    "                    m.bias.data.fill_(0.0)\n",
    "                        \n",
    "    def forward(self, x):\n",
    "        out = self.layers(x)\n",
    "        return out\n",
    "    \n",
    "class DataGenerator(torch.utils.data.Dataset):\n",
    "    def __init__(self, X, Y):\n",
    "        self.X = X\n",
    "        self.Y = Y\n",
    "        \n",
    "    def __getitem__(self, index):\n",
    "        return self.X[index], self.Y[index]\n",
    "    \n",
    "    def __len__(self):\n",
    "        return len(self.X)"
   ]
  },
  {
   "cell_type": "code",
   "execution_count": 4,
   "metadata": {},
   "outputs": [
    {
     "data": {
      "text/html": [
       "<div>\n",
       "<style scoped>\n",
       "    .dataframe tbody tr th:only-of-type {\n",
       "        vertical-align: middle;\n",
       "    }\n",
       "\n",
       "    .dataframe tbody tr th {\n",
       "        vertical-align: top;\n",
       "    }\n",
       "\n",
       "    .dataframe thead th {\n",
       "        text-align: right;\n",
       "    }\n",
       "</style>\n",
       "<table border=\"1\" class=\"dataframe\">\n",
       "  <thead>\n",
       "    <tr style=\"text-align: right;\">\n",
       "      <th></th>\n",
       "      <th>depth</th>\n",
       "      <th>do</th>\n",
       "      <th>doc</th>\n",
       "      <th>poc</th>\n",
       "      <th>temp</th>\n",
       "      <th>volume</th>\n",
       "      <th>Air_Temperature_celsius</th>\n",
       "      <th>Shortwave_Radiation_Downwelling_wattPerMeterSquared</th>\n",
       "      <th>Longwave_Radiation_Downwelling_wattPerMeterSquared</th>\n",
       "      <th>Relative_Humidity_percent</th>\n",
       "      <th>Ten_Meter_Elevation_Wind_Speed_meterPerSecond</th>\n",
       "      <th>Precipitation_millimeterPerDay</th>\n",
       "      <th>Surface_Level_Barometric_Pressure_pascal</th>\n",
       "      <th>Cloud_Cover</th>\n",
       "      <th>dt</th>\n",
       "      <th>ea</th>\n",
       "      <th>day_of_year_list</th>\n",
       "      <th>time_of_day_list</th>\n",
       "      <th>ice</th>\n",
       "      <th>temp_obs</th>\n",
       "      <th>do_obs</th>\n",
       "      <th>doc_obs</th>\n",
       "      <th>poc_obs</th>\n",
       "      <th>secchi_obs</th>\n",
       "    </tr>\n",
       "  </thead>\n",
       "  <tbody>\n",
       "    <tr>\n",
       "      <th>0</th>\n",
       "      <td>0.25</td>\n",
       "      <td>11.381491</td>\n",
       "      <td>5.803908</td>\n",
       "      <td>0.990601</td>\n",
       "      <td>15.027664</td>\n",
       "      <td>19925000.0</td>\n",
       "      <td>14.309991</td>\n",
       "      <td>93.727997</td>\n",
       "      <td>322.450012</td>\n",
       "      <td>64.306063</td>\n",
       "      <td>3.327762</td>\n",
       "      <td>0.0</td>\n",
       "      <td>98914.82031</td>\n",
       "      <td>1.000000</td>\n",
       "      <td>11923201</td>\n",
       "      <td>10.359133</td>\n",
       "      <td>138</td>\n",
       "      <td>18</td>\n",
       "      <td>0</td>\n",
       "      <td>NaN</td>\n",
       "      <td>NaN</td>\n",
       "      <td>NaN</td>\n",
       "      <td>NaN</td>\n",
       "      <td>NaN</td>\n",
       "    </tr>\n",
       "    <tr>\n",
       "      <th>1</th>\n",
       "      <td>0.75</td>\n",
       "      <td>11.381491</td>\n",
       "      <td>5.803908</td>\n",
       "      <td>0.990601</td>\n",
       "      <td>15.027664</td>\n",
       "      <td>18962500.0</td>\n",
       "      <td>14.309991</td>\n",
       "      <td>93.727997</td>\n",
       "      <td>322.450012</td>\n",
       "      <td>64.306063</td>\n",
       "      <td>3.327762</td>\n",
       "      <td>0.0</td>\n",
       "      <td>98914.82031</td>\n",
       "      <td>1.000000</td>\n",
       "      <td>11923201</td>\n",
       "      <td>10.359133</td>\n",
       "      <td>138</td>\n",
       "      <td>18</td>\n",
       "      <td>0</td>\n",
       "      <td>NaN</td>\n",
       "      <td>NaN</td>\n",
       "      <td>NaN</td>\n",
       "      <td>NaN</td>\n",
       "      <td>NaN</td>\n",
       "    </tr>\n",
       "    <tr>\n",
       "      <th>2</th>\n",
       "      <td>1.25</td>\n",
       "      <td>11.381491</td>\n",
       "      <td>5.803908</td>\n",
       "      <td>0.990601</td>\n",
       "      <td>15.027664</td>\n",
       "      <td>18000000.0</td>\n",
       "      <td>14.309991</td>\n",
       "      <td>93.727997</td>\n",
       "      <td>322.450012</td>\n",
       "      <td>64.306063</td>\n",
       "      <td>3.327762</td>\n",
       "      <td>0.0</td>\n",
       "      <td>98914.82031</td>\n",
       "      <td>1.000000</td>\n",
       "      <td>11923201</td>\n",
       "      <td>10.359133</td>\n",
       "      <td>138</td>\n",
       "      <td>18</td>\n",
       "      <td>0</td>\n",
       "      <td>NaN</td>\n",
       "      <td>NaN</td>\n",
       "      <td>NaN</td>\n",
       "      <td>NaN</td>\n",
       "      <td>NaN</td>\n",
       "    </tr>\n",
       "    <tr>\n",
       "      <th>3</th>\n",
       "      <td>1.75</td>\n",
       "      <td>11.381491</td>\n",
       "      <td>5.803908</td>\n",
       "      <td>0.990601</td>\n",
       "      <td>15.027664</td>\n",
       "      <td>17500000.0</td>\n",
       "      <td>14.309991</td>\n",
       "      <td>93.727997</td>\n",
       "      <td>322.450012</td>\n",
       "      <td>64.306063</td>\n",
       "      <td>3.327762</td>\n",
       "      <td>0.0</td>\n",
       "      <td>98914.82031</td>\n",
       "      <td>1.000000</td>\n",
       "      <td>11923201</td>\n",
       "      <td>10.359133</td>\n",
       "      <td>138</td>\n",
       "      <td>18</td>\n",
       "      <td>0</td>\n",
       "      <td>NaN</td>\n",
       "      <td>NaN</td>\n",
       "      <td>NaN</td>\n",
       "      <td>NaN</td>\n",
       "      <td>NaN</td>\n",
       "    </tr>\n",
       "    <tr>\n",
       "      <th>4</th>\n",
       "      <td>10.25</td>\n",
       "      <td>9.289158</td>\n",
       "      <td>5.736582</td>\n",
       "      <td>0.998232</td>\n",
       "      <td>11.075003</td>\n",
       "      <td>12000000.0</td>\n",
       "      <td>14.309991</td>\n",
       "      <td>93.727997</td>\n",
       "      <td>322.450012</td>\n",
       "      <td>64.306063</td>\n",
       "      <td>3.327762</td>\n",
       "      <td>0.0</td>\n",
       "      <td>98914.82031</td>\n",
       "      <td>1.000000</td>\n",
       "      <td>11923201</td>\n",
       "      <td>10.359133</td>\n",
       "      <td>138</td>\n",
       "      <td>18</td>\n",
       "      <td>0</td>\n",
       "      <td>NaN</td>\n",
       "      <td>NaN</td>\n",
       "      <td>NaN</td>\n",
       "      <td>NaN</td>\n",
       "      <td>NaN</td>\n",
       "    </tr>\n",
       "    <tr>\n",
       "      <th>...</th>\n",
       "      <td>...</td>\n",
       "      <td>...</td>\n",
       "      <td>...</td>\n",
       "      <td>...</td>\n",
       "      <td>...</td>\n",
       "      <td>...</td>\n",
       "      <td>...</td>\n",
       "      <td>...</td>\n",
       "      <td>...</td>\n",
       "      <td>...</td>\n",
       "      <td>...</td>\n",
       "      <td>...</td>\n",
       "      <td>...</td>\n",
       "      <td>...</td>\n",
       "      <td>...</td>\n",
       "      <td>...</td>\n",
       "      <td>...</td>\n",
       "      <td>...</td>\n",
       "      <td>...</td>\n",
       "      <td>...</td>\n",
       "      <td>...</td>\n",
       "      <td>...</td>\n",
       "      <td>...</td>\n",
       "      <td>...</td>\n",
       "    </tr>\n",
       "    <tr>\n",
       "      <th>2794185</th>\n",
       "      <td>7.75</td>\n",
       "      <td>11.257754</td>\n",
       "      <td>5.850379</td>\n",
       "      <td>0.603874</td>\n",
       "      <td>8.846719</td>\n",
       "      <td>13250000.0</td>\n",
       "      <td>21.459985</td>\n",
       "      <td>300.559998</td>\n",
       "      <td>342.149994</td>\n",
       "      <td>63.149491</td>\n",
       "      <td>4.378333</td>\n",
       "      <td>0.0</td>\n",
       "      <td>98641.21875</td>\n",
       "      <td>0.755736</td>\n",
       "      <td>169599601</td>\n",
       "      <td>15.977638</td>\n",
       "      <td>136</td>\n",
       "      <td>17</td>\n",
       "      <td>0</td>\n",
       "      <td>NaN</td>\n",
       "      <td>NaN</td>\n",
       "      <td>NaN</td>\n",
       "      <td>NaN</td>\n",
       "      <td>NaN</td>\n",
       "    </tr>\n",
       "    <tr>\n",
       "      <th>2794186</th>\n",
       "      <td>8.25</td>\n",
       "      <td>11.249851</td>\n",
       "      <td>5.848709</td>\n",
       "      <td>0.603260</td>\n",
       "      <td>8.777848</td>\n",
       "      <td>13000000.0</td>\n",
       "      <td>21.459985</td>\n",
       "      <td>300.559998</td>\n",
       "      <td>342.149994</td>\n",
       "      <td>63.149491</td>\n",
       "      <td>4.378333</td>\n",
       "      <td>0.0</td>\n",
       "      <td>98641.21875</td>\n",
       "      <td>0.755736</td>\n",
       "      <td>169599601</td>\n",
       "      <td>15.977638</td>\n",
       "      <td>136</td>\n",
       "      <td>17</td>\n",
       "      <td>0</td>\n",
       "      <td>NaN</td>\n",
       "      <td>NaN</td>\n",
       "      <td>NaN</td>\n",
       "      <td>NaN</td>\n",
       "      <td>NaN</td>\n",
       "    </tr>\n",
       "    <tr>\n",
       "      <th>2794187</th>\n",
       "      <td>8.75</td>\n",
       "      <td>11.243093</td>\n",
       "      <td>5.847564</td>\n",
       "      <td>0.602886</td>\n",
       "      <td>8.734047</td>\n",
       "      <td>12750000.0</td>\n",
       "      <td>21.459985</td>\n",
       "      <td>300.559998</td>\n",
       "      <td>342.149994</td>\n",
       "      <td>63.149491</td>\n",
       "      <td>4.378333</td>\n",
       "      <td>0.0</td>\n",
       "      <td>98641.21875</td>\n",
       "      <td>0.755736</td>\n",
       "      <td>169599601</td>\n",
       "      <td>15.977638</td>\n",
       "      <td>136</td>\n",
       "      <td>17</td>\n",
       "      <td>0</td>\n",
       "      <td>NaN</td>\n",
       "      <td>NaN</td>\n",
       "      <td>NaN</td>\n",
       "      <td>NaN</td>\n",
       "      <td>NaN</td>\n",
       "    </tr>\n",
       "    <tr>\n",
       "      <th>2794188</th>\n",
       "      <td>9.25</td>\n",
       "      <td>11.238053</td>\n",
       "      <td>5.846858</td>\n",
       "      <td>0.602664</td>\n",
       "      <td>8.709402</td>\n",
       "      <td>12500000.0</td>\n",
       "      <td>21.459985</td>\n",
       "      <td>300.559998</td>\n",
       "      <td>342.149994</td>\n",
       "      <td>63.149491</td>\n",
       "      <td>4.378333</td>\n",
       "      <td>0.0</td>\n",
       "      <td>98641.21875</td>\n",
       "      <td>0.755736</td>\n",
       "      <td>169599601</td>\n",
       "      <td>15.977638</td>\n",
       "      <td>136</td>\n",
       "      <td>17</td>\n",
       "      <td>0</td>\n",
       "      <td>NaN</td>\n",
       "      <td>NaN</td>\n",
       "      <td>NaN</td>\n",
       "      <td>NaN</td>\n",
       "      <td>NaN</td>\n",
       "    </tr>\n",
       "    <tr>\n",
       "      <th>2794189</th>\n",
       "      <td>9.75</td>\n",
       "      <td>11.234610</td>\n",
       "      <td>5.846455</td>\n",
       "      <td>0.602549</td>\n",
       "      <td>8.696940</td>\n",
       "      <td>12250000.0</td>\n",
       "      <td>21.459985</td>\n",
       "      <td>300.559998</td>\n",
       "      <td>342.149994</td>\n",
       "      <td>63.149491</td>\n",
       "      <td>4.378333</td>\n",
       "      <td>0.0</td>\n",
       "      <td>98641.21875</td>\n",
       "      <td>0.755736</td>\n",
       "      <td>169599601</td>\n",
       "      <td>15.977638</td>\n",
       "      <td>136</td>\n",
       "      <td>17</td>\n",
       "      <td>0</td>\n",
       "      <td>NaN</td>\n",
       "      <td>NaN</td>\n",
       "      <td>NaN</td>\n",
       "      <td>NaN</td>\n",
       "      <td>NaN</td>\n",
       "    </tr>\n",
       "  </tbody>\n",
       "</table>\n",
       "<p>2794190 rows × 24 columns</p>\n",
       "</div>"
      ],
      "text/plain": [
       "         depth         do       doc  ...  doc_obs  poc_obs  secchi_obs\n",
       "0         0.25  11.381491  5.803908  ...      NaN      NaN         NaN\n",
       "1         0.75  11.381491  5.803908  ...      NaN      NaN         NaN\n",
       "2         1.25  11.381491  5.803908  ...      NaN      NaN         NaN\n",
       "3         1.75  11.381491  5.803908  ...      NaN      NaN         NaN\n",
       "4        10.25   9.289158  5.736582  ...      NaN      NaN         NaN\n",
       "...        ...        ...       ...  ...      ...      ...         ...\n",
       "2794185   7.75  11.257754  5.850379  ...      NaN      NaN         NaN\n",
       "2794186   8.25  11.249851  5.848709  ...      NaN      NaN         NaN\n",
       "2794187   8.75  11.243093  5.847564  ...      NaN      NaN         NaN\n",
       "2794188   9.25  11.238053  5.846858  ...      NaN      NaN         NaN\n",
       "2794189   9.75  11.234610  5.846455  ...      NaN      NaN         NaN\n",
       "\n",
       "[2794190 rows x 24 columns]"
      ]
     },
     "execution_count": 4,
     "metadata": {},
     "output_type": "execute_result"
    }
   ],
   "source": [
    "data_df = pd.read_csv(\"all_model_data_in_time.csv\")\n",
    "data_df = data_df.drop(columns=['datetime'])\n",
    "data_df"
   ]
  },
  {
   "cell_type": "code",
   "execution_count": 5,
   "metadata": {},
   "outputs": [
    {
     "name": "stdout",
     "output_type": "stream",
     "text": [
      "Number of days total: 111767\n",
      "Number of training points: 1676500\n"
     ]
    }
   ],
   "source": [
    "training_frac = 0.60\n",
    "depth_steps = 25\n",
    "number_days = len(data_df)//depth_steps\n",
    "n_obs = int(number_days*training_frac)*depth_steps\n",
    "print(f\"Number of days total: {number_days}\")\n",
    "print(f\"Number of training points: {n_obs}\")"
   ]
  },
  {
   "cell_type": "markdown",
   "metadata": {},
   "source": [
    "# Normalizing Data"
   ]
  },
  {
   "cell_type": "code",
   "execution_count": 6,
   "metadata": {},
   "outputs": [],
   "source": [
    "data = data_df.values\n",
    "\n",
    "train_data = data[:n_obs]\n",
    "test_data = data[n_obs:]\n",
    "\n",
    "#performing normalization on all the columns\n",
    "scaler = StandardScaler()\n",
    "scaler.fit(train_data)\n",
    "train_data = scaler.transform(train_data)\n",
    "test_data = scaler.transform(test_data)"
   ]
  },
  {
   "cell_type": "markdown",
   "metadata": {},
   "source": [
    "# Training Overall Model"
   ]
  },
  {
   "cell_type": "code",
   "execution_count": 7,
   "metadata": {},
   "outputs": [],
   "source": [
    "input_columns = ['depth', 'Air_Temperature_celsius', 'Shortwave_Radiation_Downwelling_wattPerMeterSquared',\n",
    "                'Longwave_Radiation_Downwelling_wattPerMeterSquared','Relative_Humidity_percent', \n",
    "                 'Ten_Meter_Elevation_Wind_Speed_meterPerSecond', 'Precipitation_millimeterPerDay', \n",
    "                 'Surface_Level_Barometric_Pressure_pascal', 'Cloud_Cover', 'dt', 'ea', 'day_of_year_list', 'time_of_day_list']\n",
    "output_columns = ['do', 'doc', 'poc', 'temp', 'ice']\n",
    "\n",
    "input_column_ix = [data_df.columns.get_loc(column) for column in input_columns]\n",
    "output_column_ix = [data_df.columns.get_loc(column) for column in output_columns]\n",
    "\n",
    "X_train, X_test = train_data[:,input_column_ix], test_data[:,input_column_ix]\n",
    "y_train, y_test = train_data[:,output_column_ix], test_data[:,output_column_ix]"
   ]
  },
  {
   "cell_type": "code",
   "execution_count": 8,
   "metadata": {},
   "outputs": [
    {
     "name": "stdout",
     "output_type": "stream",
     "text": [
      "X_train: (1676500, 13), X_test: (1117690, 13)\n",
      "y_train: (1676500, 5), y_test: (1117690, 5)\n"
     ]
    }
   ],
   "source": [
    "print(f\"X_train: {X_train.shape}, X_test: {X_test.shape}\")\n",
    "print(f\"y_train: {y_train.shape}, y_test: {y_test.shape}\")"
   ]
  },
  {
   "cell_type": "code",
   "execution_count": 9,
   "metadata": {},
   "outputs": [],
   "source": [
    "#keeping track of the mean and standard deviations\n",
    "train_mean = scaler.mean_\n",
    "train_std = scaler.scale_\n",
    "\n",
    "input_mean, input_std = train_mean[input_column_ix], train_std[input_column_ix]\n",
    "output_mean, output_std = train_mean[output_column_ix], train_std[output_column_ix]"
   ]
  },
  {
   "cell_type": "code",
   "execution_count": 10,
   "metadata": {},
   "outputs": [],
   "source": [
    "# Create data set\n",
    "batch_size = 1024\n",
    "train_dataset = DataGenerator(X_train, y_train)\n",
    "test_dataset = DataGenerator(X_test, y_test)\n",
    "# train_dataset = torch.utils.data.TensorDataset(X_train, y_train)\n",
    "# test_dataset = torch.utils.data.TensorDataset(X_test, y_test)\n",
    "\n",
    "train_loader = torch.utils.data.DataLoader(train_dataset, batch_size=batch_size, \n",
    "                                           shuffle=True)\n",
    "test_loader = torch.utils.data.DataLoader(test_dataset, batch_size=batch_size,\n",
    "                                          shuffle=False)"
   ]
  },
  {
   "cell_type": "code",
   "execution_count": 11,
   "metadata": {},
   "outputs": [
    {
     "name": "stdout",
     "output_type": "stream",
     "text": [
      "Initializing Network with Xavier Initialization..\n"
     ]
    }
   ],
   "source": [
    "layers = [X_train.shape[-1], 32, 32,32,32,32,32,32,32,32,32, y_train.shape[-1]]\n",
    "\n",
    "model = MLP(layers, activation=\"gelu\").to(device)"
   ]
  },
  {
   "cell_type": "code",
   "execution_count": 12,
   "metadata": {},
   "outputs": [],
   "source": [
    "lr = 1e-3\n",
    "decay_rate = 0.1\n",
    "decay_steps = 500\n",
    "    \n",
    "optimizer = torch.optim.Adam(model.parameters(), lr=lr, \n",
    "                         betas=(0.9, 0.999), eps=1e-08, weight_decay=0, amsgrad=False)\n",
    "lr_scheduler = torch.optim.lr_scheduler.StepLR(optimizer, step_size=decay_steps, gamma=decay_rate)\n",
    "\n",
    "criterion = torch.nn.MSELoss()"
   ]
  },
  {
   "cell_type": "code",
   "execution_count": 13,
   "metadata": {},
   "outputs": [
    {
     "name": "stdout",
     "output_type": "stream",
     "text": [
      "MLP(\n",
      "  (activation): GELU(approximate='none')\n",
      "  (layers): Sequential(\n",
      "    (layer_0): Linear(in_features=13, out_features=32, bias=True)\n",
      "    (activation_0): GELU(approximate='none')\n",
      "    (layer_1): Linear(in_features=32, out_features=32, bias=True)\n",
      "    (activation_1): GELU(approximate='none')\n",
      "    (layer_2): Linear(in_features=32, out_features=32, bias=True)\n",
      "    (activation_2): GELU(approximate='none')\n",
      "    (layer_3): Linear(in_features=32, out_features=32, bias=True)\n",
      "    (activation_3): GELU(approximate='none')\n",
      "    (layer_4): Linear(in_features=32, out_features=32, bias=True)\n",
      "    (activation_4): GELU(approximate='none')\n",
      "    (layer_5): Linear(in_features=32, out_features=32, bias=True)\n",
      "    (activation_5): GELU(approximate='none')\n",
      "    (layer_6): Linear(in_features=32, out_features=32, bias=True)\n",
      "    (activation_6): GELU(approximate='none')\n",
      "    (layer_7): Linear(in_features=32, out_features=32, bias=True)\n",
      "    (activation_7): GELU(approximate='none')\n",
      "    (layer_8): Linear(in_features=32, out_features=32, bias=True)\n",
      "    (activation_8): GELU(approximate='none')\n",
      "    (layer_9): Linear(in_features=32, out_features=32, bias=True)\n",
      "    (activation_9): GELU(approximate='none')\n",
      "    (layer_10): Linear(in_features=32, out_features=5, bias=True)\n",
      "  )\n",
      ")\n"
     ]
    }
   ],
   "source": [
    "print(model)"
   ]
  },
  {
   "cell_type": "code",
   "execution_count": 14,
   "metadata": {},
   "outputs": [
    {
     "name": "stderr",
     "output_type": "stream",
     "text": [
      "  1%|          | 1/100 [00:38<1:03:17, 38.36s/it]"
     ]
    },
    {
     "name": "stdout",
     "output_type": "stream",
     "text": [
      "Epoch : 0, Train_loss: 0.19739978349516316, Test_loss: 2.844188461779538\n"
     ]
    },
    {
     "name": "stderr",
     "output_type": "stream",
     "text": [
      " 51%|█████     | 51/100 [21:05<22:52, 28.01s/it] "
     ]
    },
    {
     "name": "stdout",
     "output_type": "stream",
     "text": [
      "Epoch : 50, Train_loss: 0.009628059783147623, Test_loss: 0.4714377894212966\n"
     ]
    },
    {
     "name": "stderr",
     "output_type": "stream",
     "text": [
      "100%|██████████| 100/100 [41:45<00:00, 25.05s/it]\n"
     ]
    }
   ],
   "source": [
    "n_epochs = 100\n",
    "\n",
    "train_loss = []\n",
    "test_loss = []\n",
    "for it in tqdm(range(n_epochs)):\n",
    "    loss_epoch = 0\n",
    "    model.train()\n",
    "    for x, y in iter(train_loader):\n",
    "        x, y = x.to(device).float(), y.to(device).float()\n",
    "        optimizer.zero_grad()\n",
    "        pred = model(x)\n",
    "        loss = criterion(pred, y)\n",
    "        loss.backward()\n",
    "        optimizer.step()\n",
    "        loss_epoch += loss.detach().item()\n",
    "    lr_scheduler.step()\n",
    "    \n",
    "    if it % 50 == 0:\n",
    "        train_loss.append(loss_epoch/len(train_loader))\n",
    "        model.eval()\n",
    "        test_loss_epoch = 0\n",
    "        for x, y in iter(test_loader):\n",
    "            x, y = x.to(device).float(), y.to(device).float()\n",
    "            pred = model(x)\n",
    "            loss = criterion(pred, y)\n",
    "            test_loss_epoch += loss.detach().item()\n",
    "        test_loss.append(test_loss_epoch/len(test_loader))\n",
    "        print(f\"Epoch : {it}, Train_loss: {train_loss[-1]}, Test_loss: {test_loss[-1]}\")\n",
    "    "
   ]
  },
  {
   "cell_type": "code",
   "execution_count": 15,
   "metadata": {},
   "outputs": [
    {
     "data": {
      "image/png": "[encoded data removed]",
      "text/plain": [
       "<Figure size 576x432 with 1 Axes>"
      ]
     },
     "metadata": {},
     "output_type": "display_data"
    }
   ],
   "source": [
    "plt.figure(figsize=(8,6))\n",
    "plt.plot(train_loss, label=\"Train\", linewidth=2.5)\n",
    "plt.plot(test_loss, label=\"Test\", linewidth=2.5)\n",
    "plt.grid(\"on\", alpha=0.2)\n",
    "plt.legend(fontsize=18)\n",
    "plt.yscale(\"log\")\n",
    "plt.xlabel(\"Epochs\", fontsize=18)\n",
    "plt.ylabel(\"Loss\", fontsize=18)\n",
    "plt.show()"
   ]
  },
  {
   "cell_type": "markdown",
   "metadata": {},
   "source": [
    "# Evaluating Results"
   ]
  },
  {
   "cell_type": "code",
   "execution_count": 16,
   "metadata": {},
   "outputs": [],
   "source": [
    "def rmse(true, pred):\n",
    "    return (((true-pred)**2).mean()**0.5).detach().cpu().numpy()\n",
    "\n",
    "def l2_error(true, pred):\n",
    "    return np.linalg.norm(pred.detach().cpu().numpy() - true.detach().cpu().numpy()) / np.linalg.norm(true.detach().cpu().numpy()) \n",
    "\n",
    "def compute_metrics(model, loader, mean=0.0, std=1.0):\n",
    "    model.eval()\n",
    "    y_ = []\n",
    "    pred_ = []\n",
    "    mean = torch.tensor(mean).to(device)\n",
    "    std = torch.tensor(std).to(device)\n",
    "    for x, y in iter(loader):\n",
    "        x, y = x.to(device).float(), y.to(device).float()\n",
    "        pred = model(x)\n",
    "        y = y * std + mean\n",
    "        pred = pred * std + mean\n",
    "        y_.append(y)\n",
    "        pred_.append(pred)\n",
    "    y_ = torch.cat(y_, dim=0) \n",
    "    pred_ = torch.cat(pred_, dim=0)\n",
    "    \n",
    "    rmse_temp = rmse(y_[:,0], pred_[:,0])\n",
    "    \n",
    "    l2_error_temp = l2_error(y_[:,0], pred_[:,0])\n",
    "    return rmse_temp, l2_error_temp"
   ]
  },
  {
   "cell_type": "code",
   "execution_count": 17,
   "metadata": {},
   "outputs": [
    {
     "name": "stdout",
     "output_type": "stream",
     "text": [
      "Test Rmse of Temp: 3.5366231919995568\n",
      "L2 Error  of Temp: 0.37424112693388145\n"
     ]
    }
   ],
   "source": [
    "rmse_temp, l2_error_temp = compute_metrics(model, test_loader,  mean = output_mean, std = output_std)\n",
    "print(f\"Test Rmse of Temp: {rmse_temp}\")\n",
    "print(f\"L2 Error  of Temp: {l2_error_temp}\")"
   ]
  },
  {
   "cell_type": "code",
   "execution_count": 18,
   "metadata": {},
   "outputs": [
    {
     "name": "stdout",
     "output_type": "stream",
     "text": [
      "Train Rmse of Temp: 0.6045299968667817\n",
      "L2 Error  of Temp: 0.06604599673999485\n"
     ]
    }
   ],
   "source": [
    "rmse_temp, l2_error_temp = compute_metrics(model, train_loader,  mean = output_mean, std = output_std)\n",
    "print(f\"Train Rmse of Temp: {rmse_temp}\")\n",
    "print(f\"L2 Error  of Temp: {l2_error_temp}\")"
   ]
  },
  {
   "cell_type": "markdown",
   "metadata": {},
   "source": [
    "# Saving Model"
   ]
  },
  {
   "cell_type": "code",
   "execution_count": 19,
   "metadata": {},
   "outputs": [],
   "source": [
    "PATH = f\"./saved_models/direct_model_train_pb_time.pth\"\n",
    "torch.save(model.state_dict(), PATH)"
   ]
  },
  {
   "cell_type": "code",
   "execution_count": null,
   "metadata": {},
   "outputs": [],
   "source": [
    "data = data_df.values\n",
    "scaler = StandardScaler()\n",
    "scaler.fit(data)\n",
    "data = scaler.transform(data)\n",
    "data_mean = scaler.mean_\n",
    "data_std = scaler.scale_"
   ]
  },
  {
   "cell_type": "code",
   "execution_count": 35,
   "metadata": {},
   "outputs": [
    {
     "ename": "ValueError",
     "evalue": "could not determine the shape of object type 'DataFrame'",
     "output_type": "error",
     "traceback": [
      "Traceback \u001b[1;36m(most recent call last)\u001b[0m:\n",
      "\u001b[1;36m  Cell \u001b[1;32mIn[35], line 1\u001b[1;36m\n\u001b[1;33m    model(torch.tensor(data_df[input_columns], dtype=torch.float)).detach().numpy()\u001b[1;36m\n",
      "\u001b[1;31mValueError\u001b[0m\u001b[1;31m:\u001b[0m could not determine the shape of object type 'DataFrame'\n"
     ]
    }
   ],
   "source": [
    "model(torch.tensor(data_df[input_columns], dtype=torch.float)).detach().numpy()"
   ]
  }
 ],
 "metadata": {
  "kernelspec": {
   "display_name": "Python 3 (Spyder)",
   "language": "python3",
   "name": "python3"
  },
  "language_info": {
   "codemirror_mode": {
    "name": "ipython",
    "version": 3
   },
   "file_extension": ".py",
   "mimetype": "text/x-python",
   "name": "python",
   "nbconvert_exporter": "python",
   "pygments_lexer": "ipython3",
   "version": "3.9.19"
  }
 },
 "nbformat": 4,
 "nbformat_minor": 4
}
